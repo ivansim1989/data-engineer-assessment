{
 "cells": [
  {
   "cell_type": "markdown",
   "id": "7504cf43",
   "metadata": {},
   "source": [
    "# Load data"
   ]
  },
  {
   "cell_type": "code",
   "execution_count": 49,
   "id": "9dd8e240",
   "metadata": {},
   "outputs": [
    {
     "data": {
      "text/html": [
       "<div>\n",
       "<style scoped>\n",
       "    .dataframe tbody tr th:only-of-type {\n",
       "        vertical-align: middle;\n",
       "    }\n",
       "\n",
       "    .dataframe tbody tr th {\n",
       "        vertical-align: top;\n",
       "    }\n",
       "\n",
       "    .dataframe thead th {\n",
       "        text-align: right;\n",
       "    }\n",
       "</style>\n",
       "<table border=\"1\" class=\"dataframe\">\n",
       "  <thead>\n",
       "    <tr style=\"text-align: right;\">\n",
       "      <th></th>\n",
       "      <th>buying</th>\n",
       "      <th>maint</th>\n",
       "      <th>doors</th>\n",
       "      <th>persons</th>\n",
       "      <th>lug_boot</th>\n",
       "      <th>safety</th>\n",
       "      <th>class</th>\n",
       "    </tr>\n",
       "  </thead>\n",
       "  <tbody>\n",
       "    <tr>\n",
       "      <th>0</th>\n",
       "      <td>vhigh</td>\n",
       "      <td>vhigh</td>\n",
       "      <td>2</td>\n",
       "      <td>2</td>\n",
       "      <td>small</td>\n",
       "      <td>low</td>\n",
       "      <td>unacc</td>\n",
       "    </tr>\n",
       "    <tr>\n",
       "      <th>1</th>\n",
       "      <td>vhigh</td>\n",
       "      <td>vhigh</td>\n",
       "      <td>2</td>\n",
       "      <td>2</td>\n",
       "      <td>small</td>\n",
       "      <td>med</td>\n",
       "      <td>unacc</td>\n",
       "    </tr>\n",
       "    <tr>\n",
       "      <th>2</th>\n",
       "      <td>vhigh</td>\n",
       "      <td>vhigh</td>\n",
       "      <td>2</td>\n",
       "      <td>2</td>\n",
       "      <td>small</td>\n",
       "      <td>high</td>\n",
       "      <td>unacc</td>\n",
       "    </tr>\n",
       "    <tr>\n",
       "      <th>3</th>\n",
       "      <td>vhigh</td>\n",
       "      <td>vhigh</td>\n",
       "      <td>2</td>\n",
       "      <td>2</td>\n",
       "      <td>med</td>\n",
       "      <td>low</td>\n",
       "      <td>unacc</td>\n",
       "    </tr>\n",
       "    <tr>\n",
       "      <th>4</th>\n",
       "      <td>vhigh</td>\n",
       "      <td>vhigh</td>\n",
       "      <td>2</td>\n",
       "      <td>2</td>\n",
       "      <td>med</td>\n",
       "      <td>med</td>\n",
       "      <td>unacc</td>\n",
       "    </tr>\n",
       "  </tbody>\n",
       "</table>\n",
       "</div>"
      ],
      "text/plain": [
       "  buying  maint doors persons lug_boot safety  class\n",
       "0  vhigh  vhigh     2       2    small    low  unacc\n",
       "1  vhigh  vhigh     2       2    small    med  unacc\n",
       "2  vhigh  vhigh     2       2    small   high  unacc\n",
       "3  vhigh  vhigh     2       2      med    low  unacc\n",
       "4  vhigh  vhigh     2       2      med    med  unacc"
      ]
     },
     "execution_count": 49,
     "metadata": {},
     "output_type": "execute_result"
    }
   ],
   "source": [
    "import pandas as pd\n",
    "import matplotlib.pyplot as plt\n",
    "\n",
    "car_df = pd.read_csv('car.data', names=['buying', 'maint', 'doors', 'persons', 'lug_boot', 'safety', 'class'])\n",
    "car_df.head()"
   ]
  },
  {
   "cell_type": "markdown",
   "id": "4d7196f5",
   "metadata": {},
   "source": [
    "# Analysis"
   ]
  },
  {
   "cell_type": "code",
   "execution_count": 50,
   "id": "ee1e827a",
   "metadata": {},
   "outputs": [
    {
     "name": "stdout",
     "output_type": "stream",
     "text": [
      "<class 'pandas.core.frame.DataFrame'>\n",
      "RangeIndex: 1728 entries, 0 to 1727\n",
      "Data columns (total 7 columns):\n",
      " #   Column    Non-Null Count  Dtype \n",
      "---  ------    --------------  ----- \n",
      " 0   buying    1728 non-null   object\n",
      " 1   maint     1728 non-null   object\n",
      " 2   doors     1728 non-null   object\n",
      " 3   persons   1728 non-null   object\n",
      " 4   lug_boot  1728 non-null   object\n",
      " 5   safety    1728 non-null   object\n",
      " 6   class     1728 non-null   object\n",
      "dtypes: object(7)\n",
      "memory usage: 94.6+ KB\n"
     ]
    }
   ],
   "source": [
    "car_df.info()"
   ]
  },
  {
   "cell_type": "code",
   "execution_count": 51,
   "id": "c8b5565d",
   "metadata": {},
   "outputs": [
    {
     "data": {
      "text/html": [
       "<div>\n",
       "<style scoped>\n",
       "    .dataframe tbody tr th:only-of-type {\n",
       "        vertical-align: middle;\n",
       "    }\n",
       "\n",
       "    .dataframe tbody tr th {\n",
       "        vertical-align: top;\n",
       "    }\n",
       "\n",
       "    .dataframe thead th {\n",
       "        text-align: right;\n",
       "    }\n",
       "</style>\n",
       "<table border=\"1\" class=\"dataframe\">\n",
       "  <thead>\n",
       "    <tr style=\"text-align: right;\">\n",
       "      <th></th>\n",
       "      <th>buying</th>\n",
       "      <th>maint</th>\n",
       "      <th>doors</th>\n",
       "      <th>persons</th>\n",
       "      <th>lug_boot</th>\n",
       "      <th>safety</th>\n",
       "      <th>class</th>\n",
       "    </tr>\n",
       "  </thead>\n",
       "  <tbody>\n",
       "    <tr>\n",
       "      <th>count</th>\n",
       "      <td>1728</td>\n",
       "      <td>1728</td>\n",
       "      <td>1728</td>\n",
       "      <td>1728</td>\n",
       "      <td>1728</td>\n",
       "      <td>1728</td>\n",
       "      <td>1728</td>\n",
       "    </tr>\n",
       "    <tr>\n",
       "      <th>unique</th>\n",
       "      <td>4</td>\n",
       "      <td>4</td>\n",
       "      <td>4</td>\n",
       "      <td>3</td>\n",
       "      <td>3</td>\n",
       "      <td>3</td>\n",
       "      <td>4</td>\n",
       "    </tr>\n",
       "    <tr>\n",
       "      <th>top</th>\n",
       "      <td>vhigh</td>\n",
       "      <td>vhigh</td>\n",
       "      <td>2</td>\n",
       "      <td>2</td>\n",
       "      <td>small</td>\n",
       "      <td>low</td>\n",
       "      <td>unacc</td>\n",
       "    </tr>\n",
       "    <tr>\n",
       "      <th>freq</th>\n",
       "      <td>432</td>\n",
       "      <td>432</td>\n",
       "      <td>432</td>\n",
       "      <td>576</td>\n",
       "      <td>576</td>\n",
       "      <td>576</td>\n",
       "      <td>1210</td>\n",
       "    </tr>\n",
       "  </tbody>\n",
       "</table>\n",
       "</div>"
      ],
      "text/plain": [
       "       buying  maint doors persons lug_boot safety  class\n",
       "count    1728   1728  1728    1728     1728   1728   1728\n",
       "unique      4      4     4       3        3      3      4\n",
       "top     vhigh  vhigh     2       2    small    low  unacc\n",
       "freq      432    432   432     576      576    576   1210"
      ]
     },
     "execution_count": 51,
     "metadata": {},
     "output_type": "execute_result"
    }
   ],
   "source": [
    "car_df.describe()"
   ]
  },
  {
   "cell_type": "code",
   "execution_count": 52,
   "id": "aa673574",
   "metadata": {},
   "outputs": [
    {
     "name": "stdout",
     "output_type": "stream",
     "text": [
      "Column name: buying \n",
      "vhigh    432\n",
      "high     432\n",
      "med      432\n",
      "low      432\n",
      "Name: buying, dtype: int64 \n",
      "\n",
      "Column name: maint \n",
      "vhigh    432\n",
      "high     432\n",
      "med      432\n",
      "low      432\n",
      "Name: maint, dtype: int64 \n",
      "\n",
      "Column name: doors \n",
      "2        432\n",
      "3        432\n",
      "4        432\n",
      "5more    432\n",
      "Name: doors, dtype: int64 \n",
      "\n",
      "Column name: persons \n",
      "2       576\n",
      "4       576\n",
      "more    576\n",
      "Name: persons, dtype: int64 \n",
      "\n",
      "Column name: lug_boot \n",
      "small    576\n",
      "med      576\n",
      "big      576\n",
      "Name: lug_boot, dtype: int64 \n",
      "\n",
      "Column name: safety \n",
      "low     576\n",
      "med     576\n",
      "high    576\n",
      "Name: safety, dtype: int64 \n",
      "\n",
      "Column name: class \n",
      "unacc    1210\n",
      "acc       384\n",
      "good       69\n",
      "vgood      65\n",
      "Name: class, dtype: int64 \n",
      "\n"
     ]
    },
    {
     "data": {
      "image/png": "[encoded data removed]",
      "text/plain": [
       "<Figure size 432x288 with 1 Axes>"
      ]
     },
     "metadata": {
      "needs_background": "light"
     },
     "output_type": "display_data"
    },
    {
     "data": {
      "image/png": "[encoded data removed]",
      "text/plain": [
       "<Figure size 432x288 with 1 Axes>"
      ]
     },
     "metadata": {
      "needs_background": "light"
     },
     "output_type": "display_data"
    },
    {
     "data": {
      "image/png": "[encoded data removed]",
      "text/plain": [
       "<Figure size 432x288 with 1 Axes>"
      ]
     },
     "metadata": {
      "needs_background": "light"
     },
     "output_type": "display_data"
    },
    {
     "data": {
      "image/png": "[encoded data removed]",
      "text/plain": [
       "<Figure size 432x288 with 1 Axes>"
      ]
     },
     "metadata": {
      "needs_background": "light"
     },
     "output_type": "display_data"
    },
    {
     "data": {
      "image/png": "[encoded data removed]",
      "text/plain": [
       "<Figure size 432x288 with 1 Axes>"
      ]
     },
     "metadata": {
      "needs_background": "light"
     },
     "output_type": "display_data"
    },
    {
     "data": {
      "image/png": "[encoded data removed]",
      "text/plain": [
       "<Figure size 432x288 with 1 Axes>"
      ]
     },
     "metadata": {
      "needs_background": "light"
     },
     "output_type": "display_data"
    },
    {
     "data": {
      "image/png": "[encoded data removed]",
      "text/plain": [
       "<Figure size 432x288 with 1 Axes>"
      ]
     },
     "metadata": {
      "needs_background": "light"
     },
     "output_type": "display_data"
    }
   ],
   "source": [
    "columns = car_df.columns\n",
    "\n",
    "for col in car_df.columns:\n",
    "    print(f\"Column name: {col} \\n{car_df[col].value_counts()} \\n\")\n",
    "    plt.figure()\n",
    "    car_df[col].value_counts().plot(kind='bar')\n",
    "    plt.title(col)"
   ]
  },
  {
   "cell_type": "markdown",
   "id": "fa16d0a5",
   "metadata": {},
   "source": [
    "#### Comments\n",
    "The data seems to be unusual balanced, which seems a bit odd"
   ]
  },
  {
   "cell_type": "code",
   "execution_count": 53,
   "id": "17daefbb",
   "metadata": {},
   "outputs": [
    {
     "data": {
      "text/html": [
       "<div>\n",
       "<style scoped>\n",
       "    .dataframe tbody tr th:only-of-type {\n",
       "        vertical-align: middle;\n",
       "    }\n",
       "\n",
       "    .dataframe tbody tr th {\n",
       "        vertical-align: top;\n",
       "    }\n",
       "\n",
       "    .dataframe thead th {\n",
       "        text-align: right;\n",
       "    }\n",
       "</style>\n",
       "<table border=\"1\" class=\"dataframe\">\n",
       "  <thead>\n",
       "    <tr style=\"text-align: right;\">\n",
       "      <th></th>\n",
       "      <th>buying</th>\n",
       "      <th>maint</th>\n",
       "      <th>doors</th>\n",
       "      <th>persons</th>\n",
       "      <th>lug_boot</th>\n",
       "      <th>safety</th>\n",
       "      <th>class</th>\n",
       "    </tr>\n",
       "  </thead>\n",
       "  <tbody>\n",
       "    <tr>\n",
       "      <th>0</th>\n",
       "      <td>4</td>\n",
       "      <td>4</td>\n",
       "      <td>1</td>\n",
       "      <td>1</td>\n",
       "      <td>1</td>\n",
       "      <td>1</td>\n",
       "      <td>0</td>\n",
       "    </tr>\n",
       "    <tr>\n",
       "      <th>1</th>\n",
       "      <td>4</td>\n",
       "      <td>4</td>\n",
       "      <td>1</td>\n",
       "      <td>1</td>\n",
       "      <td>1</td>\n",
       "      <td>2</td>\n",
       "      <td>0</td>\n",
       "    </tr>\n",
       "    <tr>\n",
       "      <th>2</th>\n",
       "      <td>4</td>\n",
       "      <td>4</td>\n",
       "      <td>1</td>\n",
       "      <td>1</td>\n",
       "      <td>1</td>\n",
       "      <td>3</td>\n",
       "      <td>0</td>\n",
       "    </tr>\n",
       "    <tr>\n",
       "      <th>3</th>\n",
       "      <td>4</td>\n",
       "      <td>4</td>\n",
       "      <td>1</td>\n",
       "      <td>1</td>\n",
       "      <td>2</td>\n",
       "      <td>1</td>\n",
       "      <td>0</td>\n",
       "    </tr>\n",
       "    <tr>\n",
       "      <th>4</th>\n",
       "      <td>4</td>\n",
       "      <td>4</td>\n",
       "      <td>1</td>\n",
       "      <td>1</td>\n",
       "      <td>2</td>\n",
       "      <td>2</td>\n",
       "      <td>0</td>\n",
       "    </tr>\n",
       "  </tbody>\n",
       "</table>\n",
       "</div>"
      ],
      "text/plain": [
       "   buying  maint  doors  persons  lug_boot  safety  class\n",
       "0       4      4      1        1         1       1      0\n",
       "1       4      4      1        1         1       2      0\n",
       "2       4      4      1        1         1       3      0\n",
       "3       4      4      1        1         2       1      0\n",
       "4       4      4      1        1         2       2      0"
      ]
     },
     "execution_count": 53,
     "metadata": {},
     "output_type": "execute_result"
    }
   ],
   "source": [
    "# encode the data\n",
    "price_mapping = {'vhigh': 4, 'high': 3, 'med': 2, 'low': 1}\n",
    "car_df['buying'] = car_df['buying'].replace(price_mapping)\n",
    "car_df['maint'] = car_df['maint'].replace(price_mapping)\n",
    "\n",
    "doors_mapping = {'2': 1, '3': 2, '4': 3, '5more': 4}\n",
    "car_df['doors'] = car_df['doors'].replace(doors_mapping)\n",
    "\n",
    "persons_mapping = {'2': 1, '4': 2, 'more': 3}\n",
    "car_df['persons'] = car_df['persons'].replace(persons_mapping)\n",
    "\n",
    "lug_mapping = {'small': 1, 'med': 2, 'big': 3}\n",
    "car_df['lug_boot'] = car_df['lug_boot'].replace(lug_mapping)\n",
    "\n",
    "safety_mapping = {'low': 1, 'med': 2, 'high': 3}\n",
    "car_df['safety'] = car_df['safety'].replace(safety_mapping)\n",
    "\n",
    "class_mapping = {'unacc': 0, 'acc': 1, 'good': 2, 'vgood': 3}\n",
    "car_df['class'] = car_df['class'].replace(class_mapping)\n",
    "\n",
    "car_df.head()"
   ]
  },
  {
   "cell_type": "code",
   "execution_count": 54,
   "id": "4b3e87a6",
   "metadata": {},
   "outputs": [
    {
     "name": "stdout",
     "output_type": "stream",
     "text": [
      "buying  maint\n",
      "1       1        108\n",
      "        2        108\n",
      "        3        108\n",
      "        4        108\n",
      "2       1        108\n",
      "        2        108\n",
      "        3        108\n",
      "        4        108\n",
      "3       1        108\n",
      "        2        108\n",
      "        3        108\n",
      "        4        108\n",
      "4       1        108\n",
      "        2        108\n",
      "        3        108\n",
      "        4        108\n",
      "dtype: int64\n",
      "buying  doors\n",
      "1       1        108\n",
      "        2        108\n",
      "        3        108\n",
      "        4        108\n",
      "2       1        108\n",
      "        2        108\n",
      "        3        108\n",
      "        4        108\n",
      "3       1        108\n",
      "        2        108\n",
      "        3        108\n",
      "        4        108\n",
      "4       1        108\n",
      "        2        108\n",
      "        3        108\n",
      "        4        108\n",
      "dtype: int64\n",
      "buying  persons\n",
      "1       1          144\n",
      "        2          144\n",
      "        3          144\n",
      "2       1          144\n",
      "        2          144\n",
      "        3          144\n",
      "3       1          144\n",
      "        2          144\n",
      "        3          144\n",
      "4       1          144\n",
      "        2          144\n",
      "        3          144\n",
      "dtype: int64\n",
      "buying  lug_boot\n",
      "1       1           144\n",
      "        2           144\n",
      "        3           144\n",
      "2       1           144\n",
      "        2           144\n",
      "        3           144\n",
      "3       1           144\n",
      "        2           144\n",
      "        3           144\n",
      "4       1           144\n",
      "        2           144\n",
      "        3           144\n",
      "dtype: int64\n",
      "buying  safety\n",
      "1       1         144\n",
      "        2         144\n",
      "        3         144\n",
      "2       1         144\n",
      "        2         144\n",
      "        3         144\n",
      "3       1         144\n",
      "        2         144\n",
      "        3         144\n",
      "4       1         144\n",
      "        2         144\n",
      "        3         144\n",
      "dtype: int64\n",
      "buying  class\n",
      "4       0        360\n",
      "3       0        324\n",
      "2       0        268\n",
      "1       0        258\n",
      "2       1        115\n",
      "3       1        108\n",
      "1       1         89\n",
      "4       1         72\n",
      "1       2         46\n",
      "        3         39\n",
      "2       3         26\n",
      "        2         23\n",
      "dtype: int64\n"
     ]
    }
   ],
   "source": [
    "# further investigating\n",
    "features = ['maint', 'doors', 'persons', 'lug_boot', 'safety', 'class']\n",
    "target = \"buying\"\n",
    "\n",
    "for i in features:\n",
    "    print(car_df[[target, i]].value_counts())"
   ]
  },
  {
   "cell_type": "markdown",
   "id": "31f0605a",
   "metadata": {},
   "source": [
    "#### Comments\n",
    "Unusual balanced dataset, only the class feature make more sense. "
   ]
  },
  {
   "cell_type": "markdown",
   "id": "6b9c2ba2",
   "metadata": {},
   "source": [
    "# Machine Learning"
   ]
  },
  {
   "cell_type": "code",
   "execution_count": 73,
   "id": "88719aa4",
   "metadata": {},
   "outputs": [],
   "source": [
    "from sklearn.model_selection import train_test_split\n",
    "from sklearn import metrics\n",
    "from sklearn.tree import DecisionTreeClassifier"
   ]
  },
  {
   "cell_type": "code",
   "execution_count": 84,
   "id": "b721671c",
   "metadata": {},
   "outputs": [],
   "source": [
    "X = car_df.drop(columns=['buying'])\n",
    "y = car_df['buying']\n",
    "X_train, X_test, y_train, y_test = train_test_split(X, y, test_size=0.30, random_state=100)\n"
   ]
  },
  {
   "cell_type": "code",
   "execution_count": 88,
   "id": "ed13f9b4",
   "metadata": {},
   "outputs": [
    {
     "data": {
      "text/plain": [
       "DecisionTreeClassifier(criterion='entropy', max_depth=5)"
      ]
     },
     "execution_count": 88,
     "metadata": {},
     "output_type": "execute_result"
    }
   ],
   "source": [
    "dtc = DecisionTreeClassifier(criterion='entropy', max_depth=4)\n",
    "dtc.fit(X_train, y_train)\n"
   ]
  },
  {
   "cell_type": "code",
   "execution_count": 86,
   "id": "6a0df422",
   "metadata": {},
   "outputs": [],
   "source": [
    "expected_y  = y_test\n",
    "predicted_y = dtc.predict(X_test)"
   ]
  },
  {
   "cell_type": "code",
   "execution_count": 87,
   "id": "c6d43430",
   "metadata": {},
   "outputs": [
    {
     "name": "stdout",
     "output_type": "stream",
     "text": [
      "              precision    recall  f1-score   support\n",
      "\n",
      "           1       0.33      0.33      0.33       127\n",
      "           2       0.24      0.38      0.30       127\n",
      "           3       0.22      0.21      0.22       127\n",
      "           4       0.49      0.26      0.34       138\n",
      "\n",
      "    accuracy                           0.29       519\n",
      "   macro avg       0.32      0.30      0.30       519\n",
      "weighted avg       0.33      0.29      0.30       519\n",
      "\n",
      "[[42 55 25  5]\n",
      " [44 48 27  8]\n",
      " [22 54 27 24]\n",
      " [20 40 42 36]]\n"
     ]
    }
   ],
   "source": [
    "print(metrics.classification_report(expected_y, predicted_y))\n",
    "print(metrics.confusion_matrix(expected_y, predicted_y))"
   ]
  },
  {
   "cell_type": "markdown",
   "id": "dbdb6f8a",
   "metadata": {},
   "source": [
    "# Conclusion"
   ]
  },
  {
   "cell_type": "markdown",
   "id": "31f0c190",
   "metadata": {},
   "source": [
    "The result is  comparably with only 29% accuracy, which could be attributed to factors such as data quality, underfitting, overfitting or other issue. The data appears to be unusual balanced for most features, which seesm a bit odd. Based on analysis, \n",
    "unacc class seems to have most very high price.\n",
    "\n",
    "Given more time, would conduct further analysis to investigate the pattern, perform cross-validation, or explore other predictive models to improve the results."
   ]
  }
 ],
 "metadata": {
  "kernelspec": {
   "display_name": "Python 3 (ipykernel)",
   "language": "python",
   "name": "python3"
  },
  "language_info": {
   "codemirror_mode": {
    "name": "ipython",
    "version": 3
   },
   "file_extension": ".py",
   "mimetype": "text/x-python",
   "name": "python",
   "nbconvert_exporter": "python",
   "pygments_lexer": "ipython3",
   "version": "3.9.7"
  }
 },
 "nbformat": 4,
 "nbformat_minor": 5
}
